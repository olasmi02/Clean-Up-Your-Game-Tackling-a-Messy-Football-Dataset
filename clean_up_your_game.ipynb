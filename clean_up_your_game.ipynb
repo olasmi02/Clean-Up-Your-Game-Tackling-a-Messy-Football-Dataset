{
 "cells": [
  {
   "cell_type": "markdown",
   "source": [
    "# Clean Up Your Game: Tackling a Messy Football Dataset"
   ],
   "metadata": {
    "collapsed": false
   }
  },
  {
   "cell_type": "markdown",
   "metadata": {},
   "source": [
    "Playing FIFA 21 is not just a game, it's a passion. And for passionate gamers and football fans, keeping track of player stats and match results is essential. But what happens when the data in the FIFA 21 game dataset is messy and incomplete? Enter our FIFA 21 cleaning dataset, designed to help you clean and organize your FIFA 21 data with ease. With this dataset, you can say goodbye to missing values, inconsistent formatting, and other data cleaning headaches. So whether you're a die-hard fan or a data analyst, get ready to take your FIFA 21 data to the next level with our FIFA 21 cleaning dataset."
   ]
  },
  {
   "cell_type": "markdown",
   "metadata": {},
   "source": [
    "### 1. Data Assessment"
   ]
  },
  {
   "cell_type": "code",
   "execution_count": 1,
   "metadata": {},
   "outputs": [],
   "source": [
    "# Import necessary libraries\n",
    "import pandas as pd\n",
    "import numpy as np\n",
    "from unidecode import unidecode\n",
    "import seaborn as sns\n",
    "import matplotlib.pyplot as plt\n",
    "import warnings\n",
    "warnings.filterwarnings('ignore')"
   ]
  },
  {
   "cell_type": "markdown",
   "metadata": {},
   "source": [
    "This code  imports several Python modules that are commonly used for data manipulation and visualization.\n",
    "\n",
    "- **pandas** and **numpy** are used for data manipulation and analysis, providing data structures and functions needed to work with structured data seamlessly.\n",
    "\n",
    "- **unidecode** is used for converting Unicode text to ASCII text, which is useful when working with non-English text.\n",
    "\n",
    "- **seaborn** and **matplotlib** are used for data visualization, providing a range of tools for creating plots, charts, and graphs.\n",
    "\n",
    "- **warnings**: A module used for issuing warning messages in Python.\n",
    "\n",
    "Overall, this code sets up the necessary environment for data analysis and visualization in Python."
   ]
  },
  {
   "cell_type": "code",
   "execution_count": 2,
   "metadata": {},
   "outputs": [
    {
     "data": {
      "text/plain": "       ID               Name                      LongName  \\\n0  158023           L. Messi                  Lionel Messi   \n1   20801  Cristiano Ronaldo  C. Ronaldo dos Santos Aveiro   \n2  200389           J. Oblak                     Jan Oblak   \n3  192985       K. De Bruyne               Kevin De Bruyne   \n4  190871          Neymar Jr    Neymar da Silva Santos Jr.   \n\n                                           photoUrl  \\\n0  https://cdn.sofifa.com/players/158/023/21_60.png   \n1  https://cdn.sofifa.com/players/020/801/21_60.png   \n2  https://cdn.sofifa.com/players/200/389/21_60.png   \n3  https://cdn.sofifa.com/players/192/985/21_60.png   \n4  https://cdn.sofifa.com/players/190/871/21_60.png   \n\n                                           playerUrl Nationality  Age  ↓OVA  \\\n0  http://sofifa.com/player/158023/lionel-messi/2...   Argentina   33    93   \n1  http://sofifa.com/player/20801/c-ronaldo-dos-s...    Portugal   35    92   \n2  http://sofifa.com/player/200389/jan-oblak/210006/    Slovenia   27    91   \n3  http://sofifa.com/player/192985/kevin-de-bruyn...     Belgium   29    91   \n4  http://sofifa.com/player/190871/neymar-da-silv...      Brazil   28    91   \n\n   POT                         Club  ...     A/W     D/W   IR PAC SHO  PAS  \\\n0   93         \\n\\n\\n\\nFC Barcelona  ...  Medium     Low  5 ★  85  92   91   \n1   92             \\n\\n\\n\\nJuventus  ...    High     Low  5 ★  89  93   81   \n2   93      \\n\\n\\n\\nAtlético Madrid  ...  Medium  Medium  3 ★  87  92   78   \n3   91      \\n\\n\\n\\nManchester City  ...    High    High  4 ★  76  86   93   \n4   91  \\n\\n\\n\\nParis Saint-Germain  ...    High  Medium  5 ★  91  85   86   \n\n  DRI DEF PHY Hits  \n0  95  38  65  771  \n1  89  35  77  562  \n2  90  52  90  150  \n3  88  64  78  207  \n4  94  36  59  595  \n\n[5 rows x 77 columns]",
      "text/html": "<div>\n<style scoped>\n    .dataframe tbody tr th:only-of-type {\n        vertical-align: middle;\n    }\n\n    .dataframe tbody tr th {\n        vertical-align: top;\n    }\n\n    .dataframe thead th {\n        text-align: right;\n    }\n</style>\n<table border=\"1\" class=\"dataframe\">\n  <thead>\n    <tr style=\"text-align: right;\">\n      <th></th>\n      <th>ID</th>\n      <th>Name</th>\n      <th>LongName</th>\n      <th>photoUrl</th>\n      <th>playerUrl</th>\n      <th>Nationality</th>\n      <th>Age</th>\n      <th>↓OVA</th>\n      <th>POT</th>\n      <th>Club</th>\n      <th>...</th>\n      <th>A/W</th>\n      <th>D/W</th>\n      <th>IR</th>\n      <th>PAC</th>\n      <th>SHO</th>\n      <th>PAS</th>\n      <th>DRI</th>\n      <th>DEF</th>\n      <th>PHY</th>\n      <th>Hits</th>\n    </tr>\n  </thead>\n  <tbody>\n    <tr>\n      <th>0</th>\n      <td>158023</td>\n      <td>L. Messi</td>\n      <td>Lionel Messi</td>\n      <td>https://cdn.sofifa.com/players/158/023/21_60.png</td>\n      <td>http://sofifa.com/player/158023/lionel-messi/2...</td>\n      <td>Argentina</td>\n      <td>33</td>\n      <td>93</td>\n      <td>93</td>\n      <td>\\n\\n\\n\\nFC Barcelona</td>\n      <td>...</td>\n      <td>Medium</td>\n      <td>Low</td>\n      <td>5 ★</td>\n      <td>85</td>\n      <td>92</td>\n      <td>91</td>\n      <td>95</td>\n      <td>38</td>\n      <td>65</td>\n      <td>771</td>\n    </tr>\n    <tr>\n      <th>1</th>\n      <td>20801</td>\n      <td>Cristiano Ronaldo</td>\n      <td>C. Ronaldo dos Santos Aveiro</td>\n      <td>https://cdn.sofifa.com/players/020/801/21_60.png</td>\n      <td>http://sofifa.com/player/20801/c-ronaldo-dos-s...</td>\n      <td>Portugal</td>\n      <td>35</td>\n      <td>92</td>\n      <td>92</td>\n      <td>\\n\\n\\n\\nJuventus</td>\n      <td>...</td>\n      <td>High</td>\n      <td>Low</td>\n      <td>5 ★</td>\n      <td>89</td>\n      <td>93</td>\n      <td>81</td>\n      <td>89</td>\n      <td>35</td>\n      <td>77</td>\n      <td>562</td>\n    </tr>\n    <tr>\n      <th>2</th>\n      <td>200389</td>\n      <td>J. Oblak</td>\n      <td>Jan Oblak</td>\n      <td>https://cdn.sofifa.com/players/200/389/21_60.png</td>\n      <td>http://sofifa.com/player/200389/jan-oblak/210006/</td>\n      <td>Slovenia</td>\n      <td>27</td>\n      <td>91</td>\n      <td>93</td>\n      <td>\\n\\n\\n\\nAtlético Madrid</td>\n      <td>...</td>\n      <td>Medium</td>\n      <td>Medium</td>\n      <td>3 ★</td>\n      <td>87</td>\n      <td>92</td>\n      <td>78</td>\n      <td>90</td>\n      <td>52</td>\n      <td>90</td>\n      <td>150</td>\n    </tr>\n    <tr>\n      <th>3</th>\n      <td>192985</td>\n      <td>K. De Bruyne</td>\n      <td>Kevin De Bruyne</td>\n      <td>https://cdn.sofifa.com/players/192/985/21_60.png</td>\n      <td>http://sofifa.com/player/192985/kevin-de-bruyn...</td>\n      <td>Belgium</td>\n      <td>29</td>\n      <td>91</td>\n      <td>91</td>\n      <td>\\n\\n\\n\\nManchester City</td>\n      <td>...</td>\n      <td>High</td>\n      <td>High</td>\n      <td>4 ★</td>\n      <td>76</td>\n      <td>86</td>\n      <td>93</td>\n      <td>88</td>\n      <td>64</td>\n      <td>78</td>\n      <td>207</td>\n    </tr>\n    <tr>\n      <th>4</th>\n      <td>190871</td>\n      <td>Neymar Jr</td>\n      <td>Neymar da Silva Santos Jr.</td>\n      <td>https://cdn.sofifa.com/players/190/871/21_60.png</td>\n      <td>http://sofifa.com/player/190871/neymar-da-silv...</td>\n      <td>Brazil</td>\n      <td>28</td>\n      <td>91</td>\n      <td>91</td>\n      <td>\\n\\n\\n\\nParis Saint-Germain</td>\n      <td>...</td>\n      <td>High</td>\n      <td>Medium</td>\n      <td>5 ★</td>\n      <td>91</td>\n      <td>85</td>\n      <td>86</td>\n      <td>94</td>\n      <td>36</td>\n      <td>59</td>\n      <td>595</td>\n    </tr>\n  </tbody>\n</table>\n<p>5 rows × 77 columns</p>\n</div>"
     },
     "execution_count": 2,
     "metadata": {},
     "output_type": "execute_result"
    }
   ],
   "source": [
    "df = pd.read_csv('./data/fifa21 raw data v2.csv')\n",
    "df.head()"
   ]
  },
  {
   "cell_type": "markdown",
   "metadata": {},
   "source": [
    "We start by reading in a FIFA 21 raw data CSV file using the **pd.read_csv()** function from the **pandas** library. The file is located in the **./data/** directory and is named **fifa21 raw data v2.csv**. The resulting DataFrame is assigned to the variable **df**.\n",
    "\n",
    "Next, we use the **head()** method to display the first 5 rows of the DataFrame. This method is useful for getting a quick look at the structure and content of the DataFrame.\n",
    "\n",
    "Together, these two lines of code allow us to load and preview the FIFA 21 raw data CSV file in a pandas DataFrame, making it easy to manipulate and analyze the data further.\n",
    "\n",
    "From the given dataset, we can identify some potential messy data issues, such as:\n",
    "\n",
    "1. **Missing values**\n",
    "2. **Inconsistent data format**\n",
    "3. **Inconsistent naming conventions**\n",
    "4. **Redundant data**"
   ]
  },
  {
   "cell_type": "code",
   "execution_count": 3,
   "metadata": {},
   "outputs": [
    {
     "data": {
      "text/plain": "(18979, 77)"
     },
     "execution_count": 3,
     "metadata": {},
     "output_type": "execute_result"
    }
   ],
   "source": [
    "# Inspect DataFrame\n",
    "df.shape"
   ]
  },
  {
   "cell_type": "markdown",
   "metadata": {},
   "source": [
    "This output of **df.shape** means that the Pandas DataFrame df has 18979 rows and 77 columns."
   ]
  },
  {
   "cell_type": "code",
   "execution_count": 4,
   "metadata": {},
   "outputs": [
    {
     "name": "stdout",
     "output_type": "stream",
     "text": [
      "<class 'pandas.core.frame.DataFrame'>\n",
      "RangeIndex: 18979 entries, 0 to 18978\n",
      "Data columns (total 77 columns):\n",
      " #   Column            Non-Null Count  Dtype \n",
      "---  ------            --------------  ----- \n",
      " 0   ID                18979 non-null  int64 \n",
      " 1   Name              18979 non-null  object\n",
      " 2   LongName          18979 non-null  object\n",
      " 3   photoUrl          18979 non-null  object\n",
      " 4   playerUrl         18979 non-null  object\n",
      " 5   Nationality       18979 non-null  object\n",
      " 6   Age               18979 non-null  int64 \n",
      " 7   ↓OVA              18979 non-null  int64 \n",
      " 8   POT               18979 non-null  int64 \n",
      " 9   Club              18979 non-null  object\n",
      " 10  Contract          18979 non-null  object\n",
      " 11  Positions         18979 non-null  object\n",
      " 12  Height            18979 non-null  object\n",
      " 13  Weight            18979 non-null  object\n",
      " 14  Preferred Foot    18979 non-null  object\n",
      " 15  BOV               18979 non-null  int64 \n",
      " 16  Best Position     18979 non-null  object\n",
      " 17  Joined            18979 non-null  object\n",
      " 18  Loan Date End     1013 non-null   object\n",
      " 19  Value             18979 non-null  object\n",
      " 20  Wage              18979 non-null  object\n",
      " 21  Release Clause    18979 non-null  object\n",
      " 22  Attacking         18979 non-null  int64 \n",
      " 23  Crossing          18979 non-null  int64 \n",
      " 24  Finishing         18979 non-null  int64 \n",
      " 25  Heading Accuracy  18979 non-null  int64 \n",
      " 26  Short Passing     18979 non-null  int64 \n",
      " 27  Volleys           18979 non-null  int64 \n",
      " 28  Skill             18979 non-null  int64 \n",
      " 29  Dribbling         18979 non-null  int64 \n",
      " 30  Curve             18979 non-null  int64 \n",
      " 31  FK Accuracy       18979 non-null  int64 \n",
      " 32  Long Passing      18979 non-null  int64 \n",
      " 33  Ball Control      18979 non-null  int64 \n",
      " 34  Movement          18979 non-null  int64 \n",
      " 35  Acceleration      18979 non-null  int64 \n",
      " 36  Sprint Speed      18979 non-null  int64 \n",
      " 37  Agility           18979 non-null  int64 \n",
      " 38  Reactions         18979 non-null  int64 \n",
      " 39  Balance           18979 non-null  int64 \n",
      " 40  Power             18979 non-null  int64 \n",
      " 41  Shot Power        18979 non-null  int64 \n",
      " 42  Jumping           18979 non-null  int64 \n",
      " 43  Stamina           18979 non-null  int64 \n",
      " 44  Strength          18979 non-null  int64 \n",
      " 45  Long Shots        18979 non-null  int64 \n",
      " 46  Mentality         18979 non-null  int64 \n",
      " 47  Aggression        18979 non-null  int64 \n",
      " 48  Interceptions     18979 non-null  int64 \n",
      " 49  Positioning       18979 non-null  int64 \n",
      " 50  Vision            18979 non-null  int64 \n",
      " 51  Penalties         18979 non-null  int64 \n",
      " 52  Composure         18979 non-null  int64 \n",
      " 53  Defending         18979 non-null  int64 \n",
      " 54  Marking           18979 non-null  int64 \n",
      " 55  Standing Tackle   18979 non-null  int64 \n",
      " 56  Sliding Tackle    18979 non-null  int64 \n",
      " 57  Goalkeeping       18979 non-null  int64 \n",
      " 58  GK Diving         18979 non-null  int64 \n",
      " 59  GK Handling       18979 non-null  int64 \n",
      " 60  GK Kicking        18979 non-null  int64 \n",
      " 61  GK Positioning    18979 non-null  int64 \n",
      " 62  GK Reflexes       18979 non-null  int64 \n",
      " 63  Total Stats       18979 non-null  int64 \n",
      " 64  Base Stats        18979 non-null  int64 \n",
      " 65  W/F               18979 non-null  object\n",
      " 66  SM                18979 non-null  object\n",
      " 67  A/W               18979 non-null  object\n",
      " 68  D/W               18979 non-null  object\n",
      " 69  IR                18979 non-null  object\n",
      " 70  PAC               18979 non-null  int64 \n",
      " 71  SHO               18979 non-null  int64 \n",
      " 72  PAS               18979 non-null  int64 \n",
      " 73  DRI               18979 non-null  int64 \n",
      " 74  DEF               18979 non-null  int64 \n",
      " 75  PHY               18979 non-null  int64 \n",
      " 76  Hits              16384 non-null  object\n",
      "dtypes: int64(54), object(23)\n",
      "memory usage: 11.1+ MB\n"
     ]
    }
   ],
   "source": [
    "df.info()"
   ]
  },
  {
   "cell_type": "markdown",
   "metadata": {},
   "source": [
    "The **info()** method in Pandas provides a summary of a DataFrame including the number of non-null values, data types, memory usage, and more. It can be used to quickly inspect the structure and content of a DataFrame.\n",
    "\n",
    "From the output, we can see that there are missing values in the **\"Loan Date End\"** and **\"Hits\"** columns as they have fewer non-null values compared to the other columns. This suggests that the data may be messy, and some data cleaning or imputation may be necessary. Also, some columns have data types that may not be suitable for the analysis, such as object data types for numerical data or date/time columns. These columns may need to be converted to the appropriate data type for further analysis."
   ]
  },
  {
   "cell_type": "code",
   "execution_count": 5,
   "metadata": {},
   "outputs": [
    {
     "data": {
      "text/plain": "ID              0\nName            0\nLongName        0\nphotoUrl        0\nplayerUrl       0\n             ... \nPAS             0\nDRI             0\nDEF             0\nPHY             0\nHits         2595\nLength: 77, dtype: int64"
     },
     "execution_count": 5,
     "metadata": {},
     "output_type": "execute_result"
    }
   ],
   "source": [
    "# Checking for the sum of missing values in each column\n",
    "df.isna().sum()"
   ]
  },
  {
   "cell_type": "markdown",
   "metadata": {},
   "source": [
    "The output of **df.isna().sum()** gives the count of missing values (NaN) in each column of the dataframe. In this case, there are no missing values in most of the columns, but there are some missing values in the **\"Loan Date End\"** and **\"Hits\"** columns."
   ]
  },
  {
   "cell_type": "code",
   "execution_count": 6,
   "metadata": {},
   "outputs": [
    {
     "data": {
      "text/plain": "0"
     },
     "execution_count": 6,
     "metadata": {},
     "output_type": "execute_result"
    }
   ],
   "source": [
    "# Checking for duplicates in the datasets\n",
    "df.duplicated().sum()"
   ]
  },
  {
   "cell_type": "markdown",
   "metadata": {},
   "source": [
    "This code will return the number of duplicate rows in the DataFrame **'df'**."
   ]
  },
  {
   "cell_type": "code",
   "execution_count": 7,
   "metadata": {},
   "outputs": [],
   "source": [
    "# Create a copy of the DataFrame\n",
    "df_copy = df.copy()"
   ]
  },
  {
   "cell_type": "markdown",
   "metadata": {},
   "source": [
    "The code **df_copy = df.copy()** creates a copy of a Pandas DataFrame **df**. This is important because it allows us to make changes to the copy without affecting the original DataFrame.\n",
    "This is especially important in data analysis and manipulation, where we want to experiment with different transformations and operations on the data without altering the original dataset. By creating a copy, we can keep the original data intact and avoid any unintended consequences of modifying the original data.\n",
    "\n",
    "Therefore, making a copy of the DataFrame using the **.copy()** method is an important step in many data analysis workflows.\n"
   ]
  },
  {
   "cell_type": "markdown",
   "metadata": {},
   "source": [
    "### 2. Data Cleaning"
   ]
  },
  {
   "cell_type": "markdown",
   "metadata": {},
   "source": [
    "#### 2.1 Dealing with missing values and inconsistent data formats and types"
   ]
  },
  {
   "cell_type": "code",
   "execution_count": 8,
   "metadata": {},
   "outputs": [],
   "source": [
    "# Removing newline characters(/n) from the Club column\n",
    "df_copy['Club'] = df_copy['Club'].str.strip()"
   ]
  },
  {
   "cell_type": "markdown",
   "metadata": {},
   "source": [
    "This line of the code, **df_copy['Club'] = df_copy['Club'].str.strip()**, is using the **strip()** method to remove any leading or trailing whitespace characters from the **\"Club\"** column. This is useful because sometimes text data can contain extra whitespace characters, such as newline characters **(\\n)**, which can make it difficult to work with the data.\n",
    "\n",
    "The **str** attribute is used to access string methods that can be applied to each element of the **\"Club\"** column, allowing us to remove any unwanted characters from the strings in the column.\n",
    "\n",
    "Overall, this code is a useful step in data preprocessing to ensure that the text data in the **\"Club\"** column is formatted consistently and is easier to work with in downstream analysis."
   ]
  },
  {
   "cell_type": "code",
   "execution_count": 9,
   "metadata": {},
   "outputs": [],
   "source": [
    "# Fill missing Hits with 0\n",
    "df_copy['Hits'] = df_copy['Hits'].fillna(0)"
   ]
  },
  {
   "cell_type": "markdown",
   "metadata": {},
   "source": [
    "When handling missing data, it is important to carefully consider the context in which the missing values occur in order to determine an appropriate approach for addressing them. In this specific case, the missing values in the **\"Hits\"** column of the dataset may indicate that certain player profiles have not been clicked on or viewed.\n",
    "\n",
    "One approach to handling missing data in the **\"Hits\"** column could be to fill the missing values with zeros. This is a reasonable approach because it is likely that the missing values indicate that certain player profiles have not been viewed or clicked on, and thus would have zero hits. By filling in the missing values with zeros, we are explicitly acknowledging that these profiles have not been viewed, and we can treat them as if they have zero hits for the purposes of analysis.\n",
    "\n",
    "It is important to note that this approach may not always be appropriate for other datasets or contexts, and different approaches may be needed depending on the nature of the missing data and the goals of the analysis. In general, it is important to carefully consider the context of the missing data and select an appropriate approach that takes into account the potential biases or implications of different strategies for handling missing values."
   ]
  },
  {
   "cell_type": "code",
   "execution_count": 10,
   "metadata": {},
   "outputs": [],
   "source": [
    "# Taking care of the inconsistent data format and types in the Hits column\n",
    "def clean_hits(hits):\n",
    "    if type(hits) == str:\n",
    "        if hits[-1]=='K':\n",
    "            hits = float(hits.replace('K',''))*1000\n",
    "        return float(hits)\n",
    "    else:\n",
    "        return hits\n",
    "\n",
    "df_copy['Hits'] = df_copy['Hits'].apply(clean_hits).astype('int')"
   ]
  },
  {
   "cell_type": "markdown",
   "metadata": {},
   "source": [
    "This code is a function **clean_hits** that takes in one argument hits, which is expected to be a string or a number. The function checks if the type of hits is a string. If it is, the function removes the letter **\"K\"** at the end of the string (if present) and converts the remaining string to a float value. It then multiplies the float value by **1000** to convert it to the corresponding number of hits in thousands. If hits is already a number (not a string), the function simply returns the original value.\n",
    "\n",
    "The **df_copy['Hits']** column is then transformed using the **apply** method with the clean_hits function to clean up the inconsistent data format and types in the Hits column. The resulting column is then converted to an integer data type using the **astype** method and saved back to the **df_copy['Hits']** column.\n"
   ]
  },
  {
   "cell_type": "code",
   "execution_count": 11,
   "metadata": {},
   "outputs": [],
   "source": [
    "# Taking care of the inconsistent data format and types in the 'Loan Date End' and 'Joined' column\n",
    "df_copy['Loan Date End'] = pd.to_datetime(df_copy['Loan Date End'])\n",
    "df_copy['Joined'] = pd.to_datetime(df_copy['Joined'])\n",
    "\n",
    "def year_range(row):\n",
    "    return  f\"{row['Joined'].year} ~ {row['Loan Date End'].year}\"\n",
    "\n",
    "df_copy.loc[~df_copy['Loan Date End'].isna(),'Contract']= df_copy.loc[~df_copy['Loan Date End'].isna()].apply(year_range,axis=1)\n",
    "\n",
    "df_copy['player_transfer_agreement'] = pd.Series(dtype='str')\n",
    "df_copy.loc[~df_copy['Loan Date End'].isna(),'player_transfer_agreement'] = 'Loan'\n",
    "df_copy.loc[df_copy['Loan Date End'].isna(),'player_transfer_agreement'] = 'Contract'\n",
    "df_copy.loc[df_copy['Contract']=='Free','player_transfer_agreement']='Free Agent'\n",
    "\n",
    "df_copy[['start_year', 'end_year']] = df_copy['Contract'].str.split('~', expand=True)\n",
    "df_copy.loc[df_copy['Contract']=='Free',['end_year']]= 0\n",
    "df_copy.loc[df_copy['Contract']=='Free',['start_year']] = df_copy['Joined'].dt.year\n",
    "df_copy['start_year'] = df_copy['start_year'].astype('int')\n",
    "df_copy['end_year'] = df_copy['end_year'].astype('int')\n",
    "df_copy['contract_duration'] = df_copy['end_year'] - df_copy['start_year']\n",
    "\n",
    "df_copy.loc[df_copy['Loan Date End'].isna(),'Loan Date End'] = df_copy.apply(lambda row: row['Joined'] + pd.DateOffset(years=row['contract_duration']) if row['contract_duration'] > 0 else pd.NaT, axis=1)"
   ]
  },
  {
   "cell_type": "markdown",
   "metadata": {},
   "source": [
    "This code is performing several operations on the DataFrame df_copy to extract information related to player transfers and contracts.\n",
    "\n",
    "* The first part of the code is converting the **'Loan Date End'** and **'Joined'** columns to datetime format, and creating a function **year_range** that concatenates the start and end years of the player's contract.\n",
    "\n",
    "* Next, a new column **'player_transfer_agreement'** is added to differentiate between **loan agreements** and **regular contracts**, with a third category **'Free Agent'** added for players who are not under contract.\n",
    "\n",
    "* Then, the start and end years of the player's contract are extracted into separate columns, with a value of **0** added for players who are free agents. The **contract duration** is also calculated and stored in a new column.\n",
    "\n",
    "* Finally, for players who are currently under contract **(i.e. 'Loan Date End' is NaT)**, the end date is calculated based on the start year and contract duration. If the contract duration is 0, indicating that the player's contract has expired thereby making them free agents, the **'Loan Date End'** is set to **NaT**."
   ]
  },
  {
   "cell_type": "code",
   "execution_count": 12,
   "metadata": {},
   "outputs": [],
   "source": [
    "# Taking care of the inconsistent data format and types in the 'Heights' column\n",
    "def convert_height(height):\n",
    "    if pd.isnull(height):\n",
    "        return height\n",
    "    elif \"'\" in height:\n",
    "        feet, inches = height.split(\"'\")\n",
    "        total_inches = int(feet) * 12 + int(inches.replace('\"', ''))\n",
    "        return int(total_inches * 2.54)\n",
    "    elif \"cm\" in height:\n",
    "        return int(height.replace(\"cm\", \"\"))\n",
    "    else:\n",
    "        return None\n",
    "\n",
    "df_copy['Height'] = df_copy['Height'].apply(convert_height)"
   ]
  },
  {
   "cell_type": "markdown",
   "metadata": {},
   "source": [
    "The **convert_height** function is used to convert the values in the **\"Height\"** column to centimeters. It first checks if the value is null, if it is then it returns the same value. If the value is not null, it checks if the height is in the format of feet and inches or centimeters. If it's in the format of feet and inches, it converts the height to inches and then to centimeters. If it's already in the format of centimeters, it just removes the \"cm\" and returns the value. If it's not in either of these formats, it returns None.\n",
    "\n",
    "The function is applied to the **\"Height\"** column using the apply method, and the converted values are stored back in the same column."
   ]
  },
  {
   "cell_type": "code",
   "execution_count": 13,
   "metadata": {},
   "outputs": [],
   "source": [
    "# Taking care of the inconsistent data format and types in the 'Weight' column\n",
    "def clean_weight(weight):\n",
    "    if isinstance(weight, float):\n",
    "        # Convert pounds to kilograms\n",
    "        return round(weight * 0.45359237, 1)\n",
    "    elif isinstance(weight, str):\n",
    "        if weight.endswith(\"lbs\"):\n",
    "            # Convert pounds to kilograms\n",
    "            return round(float(weight.strip(\"lbs\")) * 0.45359237, 1)\n",
    "        elif weight.endswith(\"kg\"):\n",
    "            # Convert kg to kg\n",
    "            return round(float(weight.strip(\"kg\")), 1)\n",
    "        else:\n",
    "            return None\n",
    "    else:\n",
    "        return None\n",
    "\n",
    "df_copy['Weight'] = df_copy['Weight'].apply(clean_weight)"
   ]
  },
  {
   "cell_type": "markdown",
   "metadata": {},
   "source": [
    "The code above defines a function called **clean_weight** which takes a weight value as input and returns the weight value in kilograms. The function checks the input value to determine whether it is a string or a float. If the input value is a float, it assumes that the weight is already in kilograms and returns the value as is. If the input value is a string, the function checks whether the string ends with **\"lbs\"** or **\"kg\"** and performs the necessary conversion to kilograms. If the string contains feet and inches, the function converts the value to inches and then to kilograms. The function rounds the final result to one decimal place before returning it. Finally, the code applies the **clean_weight** function to the **'Weight'** column."
   ]
  },
  {
   "cell_type": "code",
   "execution_count": 14,
   "outputs": [],
   "source": [
    "# Removing the '*' in these columns 'W/F','SM' and 'IR'.\n",
    "df_copy['W/F'] = df_copy['W/F'].str.replace('★', '')\n",
    "df_copy['SM'] = df_copy['SM'].str.replace('★', '')\n",
    "df_copy['IR'] = df_copy['IR'].str.replace('★', '')"
   ],
   "metadata": {
    "collapsed": false
   }
  },
  {
   "cell_type": "markdown",
   "source": [
    "These lines of code replace the **'★'** character in the **'W/F'**, **'SM'**, and **'IR'** columns with an empty string, effectively removing it from the column values. This is useful for cases where the **'★'** character is used to indicate a player's skill level or rating, but is not necessary for data analysis or modeling purposes. By removing the character, the column values can be converted to a numerical data type if necessary, without having to deal with the **'★'** character as an additional feature."
   ],
   "metadata": {
    "collapsed": false
   }
  },
  {
   "cell_type": "code",
   "execution_count": 15,
   "metadata": {},
   "outputs": [],
   "source": [
    "# Taking care of the inconsistent data format and types in the 'Release Clause', 'Wage' and 'Value' columns.\n",
    "def clean_value(value_str):\n",
    "    if value_str[-1] == 'K':\n",
    "        return float(value_str[1:-1]) * 1000\n",
    "    elif value_str[-1] == 'M':\n",
    "        return float(value_str[1:-1]) * 1000000\n",
    "    else:\n",
    "        return float(value_str[1:])\n",
    "\n",
    "df_copy['Release Clause'] = df_copy['Release Clause'].apply(clean_value).astype('int')\n",
    "df_copy['Wage'] = df_copy['Wage'].apply(clean_value).astype('int')\n",
    "df_copy['Value'] = df_copy['Value'].apply(clean_value).astype('int')"
   ]
  },
  {
   "cell_type": "markdown",
   "metadata": {},
   "source": [
    "This code addresses the inconsistent formatting and types of data in the **'Release Clause'**, **'Wage'**, and **'Value'** columns of the dataset. The function **clean_value** converts the string values to float and multiplies them by **1000** or **1000000**, depending on whether the value ends with **'K'** or **'M'**, respectively. If the value does not end with either of those characters, it is converted to float and returned as is. The apply method is used to apply this function to each value in the three columns, and the astype method is used to convert the resulting values to integers for consistency."
   ]
  },
  {
   "cell_type": "code",
   "execution_count": 16,
   "metadata": {},
   "outputs": [],
   "source": [
    "# Converting the necessary columns data type to the category data type\n",
    "df_copy[['player_transfer_agreement','W/F','SM','Preferred Foot','D/W','A/W','IR']] = df_copy[['player_transfer_agreement','W/F','SM','Preferred Foot','D/W','A/W','IR']].astype('category')"
   ]
  },
  {
   "cell_type": "markdown",
   "metadata": {},
   "source": [
    "The columns being converted are **\"player_transfer_agreement\", \"W/F\", \"SM\", \"Preferred Foot\", \"D/W\", \"A/W\",** and **\"IR\"**.\n",
    "\n",
    "The **\"category\"** data type is useful for columns that have a limited set of possible values, such as categorical variables. It can improve performance and reduce memory usage compared to using the **\"object\"** data type for categorical variables.\n",
    "\n",
    "Overall, this code is likely being used to optimize the data types of categorical variables in the DataFrame for more efficient processing and memory usage."
   ]
  },
  {
   "cell_type": "markdown",
   "metadata": {},
   "source": [
    "#### 2.2 Dealing with inconsistent naming conventions"
   ]
  },
  {
   "cell_type": "code",
   "execution_count": 17,
   "metadata": {},
   "outputs": [
    {
     "data": {
      "text/plain": "           ID               Name                      LongName  \\\n1       20801  Cristiano Ronaldo  C. Ronaldo dos Santos Aveiro   \n4      190871          Neymar Jr    Neymar da Silva Santos Jr.   \n161    216547               Rafa      Rafael A. Ferreira Silva   \n162    200949        Lucas Moura      Lucas Rodrigues M. Silva   \n198    187961           Paulinho  Jose Paulo Bezerra M. Junior   \n...       ...                ...                           ...   \n17840  242941          M. Larsen              Marius B. Larsen   \n18345  243428         N. Jenssen            Nicolas P. Jenssen   \n18515  242215      D. Norman Jr.              David Norman Jr.   \n18517  258527        A. Stenseth        Aleksander B. Stenseth   \n18711  258094           K. Ødven           Kristoffer S. Odven   \n\n                                               photoUrl  \\\n1      https://cdn.sofifa.com/players/020/801/21_60.png   \n4      https://cdn.sofifa.com/players/190/871/21_60.png   \n161    https://cdn.sofifa.com/players/216/547/21_60.png   \n162    https://cdn.sofifa.com/players/200/949/21_60.png   \n198    https://cdn.sofifa.com/players/187/961/21_60.png   \n...                                                 ...   \n17840  https://cdn.sofifa.com/players/242/941/21_60.png   \n18345  https://cdn.sofifa.com/players/243/428/21_60.png   \n18515  https://cdn.sofifa.com/players/242/215/21_60.png   \n18517  https://cdn.sofifa.com/players/258/527/21_60.png   \n18711  https://cdn.sofifa.com/players/258/094/21_60.png   \n\n                                               playerUrl Nationality  Age  \\\n1      http://sofifa.com/player/20801/c-ronaldo-dos-s...    Portugal   35   \n4      http://sofifa.com/player/190871/neymar-da-silv...      Brazil   28   \n161    http://sofifa.com/player/216547/rafael-a-ferre...    Portugal   27   \n162    http://sofifa.com/player/200949/lucas-rodrigue...      Brazil   27   \n198    http://sofifa.com/player/187961/jose-paulo-bez...      Brazil   31   \n...                                                  ...         ...  ...   \n17840  http://sofifa.com/player/242941/marius-b-larse...      Norway   20   \n18345  http://sofifa.com/player/243428/nicolas-p-jens...      Norway   18   \n18515  http://sofifa.com/player/242215/david-norman-j...      Canada   22   \n18517  http://sofifa.com/player/258527/aleksander-b-s...      Norway   19   \n18711  http://sofifa.com/player/258094/kristoffer-s-o...      Norway   18   \n\n       ↓OVA  POT                            Club  ... SHO PAS  DRI  DEF PHY  \\\n1        92   92                        Juventus  ...  93  81   89   35  77   \n4        91   91             Paris Saint-Germain  ...  85  86   94   36  59   \n161      83   83                      SL Benfica  ...  73  74   87   50  52   \n162      83   83               Tottenham Hotspur  ...  78  72   87   43  67   \n198      83   83  Guangzhou Evergrande Taobao FC  ...  82  77   82   80  85   \n...     ...  ...                             ...  ...  ..  ..  ...  ...  ..   \n17840    55   69                         Odds BK  ...  49  47   58   30  38   \n18345    53   73                  Stabæk Fotball  ...  25  32   37   53  60   \n18515    52   62                     Inter Miami  ...  40  51   54   46  61   \n18517    52   61                 Strømsgodset IF  ...  51  43   52   25  51   \n18711    51   68                    Aalesunds FK  ...  47  51   58   40  41   \n\n       Hits player_transfer_agreement start_year end_year  contract_duration  \n1       562                  Contract       2018     2022                  4  \n4       595                  Contract       2017     2022                  5  \n161     128                  Contract       2016     2024                  8  \n162     115                  Contract       2018     2024                  6  \n198     124                  Contract       2019     2023                  4  \n...     ...                       ...        ...      ...                ...  \n17840     0                  Contract       2017     2020                  3  \n18345     0                  Contract       2018     2022                  4  \n18515     0                  Contract       2019     2021                  2  \n18517     0                  Contract       2020     2021                  1  \n18711     0                  Contract       2020     2024                  4  \n\n[76 rows x 81 columns]",
      "text/html": "<div>\n<style scoped>\n    .dataframe tbody tr th:only-of-type {\n        vertical-align: middle;\n    }\n\n    .dataframe tbody tr th {\n        vertical-align: top;\n    }\n\n    .dataframe thead th {\n        text-align: right;\n    }\n</style>\n<table border=\"1\" class=\"dataframe\">\n  <thead>\n    <tr style=\"text-align: right;\">\n      <th></th>\n      <th>ID</th>\n      <th>Name</th>\n      <th>LongName</th>\n      <th>photoUrl</th>\n      <th>playerUrl</th>\n      <th>Nationality</th>\n      <th>Age</th>\n      <th>↓OVA</th>\n      <th>POT</th>\n      <th>Club</th>\n      <th>...</th>\n      <th>SHO</th>\n      <th>PAS</th>\n      <th>DRI</th>\n      <th>DEF</th>\n      <th>PHY</th>\n      <th>Hits</th>\n      <th>player_transfer_agreement</th>\n      <th>start_year</th>\n      <th>end_year</th>\n      <th>contract_duration</th>\n    </tr>\n  </thead>\n  <tbody>\n    <tr>\n      <th>1</th>\n      <td>20801</td>\n      <td>Cristiano Ronaldo</td>\n      <td>C. Ronaldo dos Santos Aveiro</td>\n      <td>https://cdn.sofifa.com/players/020/801/21_60.png</td>\n      <td>http://sofifa.com/player/20801/c-ronaldo-dos-s...</td>\n      <td>Portugal</td>\n      <td>35</td>\n      <td>92</td>\n      <td>92</td>\n      <td>Juventus</td>\n      <td>...</td>\n      <td>93</td>\n      <td>81</td>\n      <td>89</td>\n      <td>35</td>\n      <td>77</td>\n      <td>562</td>\n      <td>Contract</td>\n      <td>2018</td>\n      <td>2022</td>\n      <td>4</td>\n    </tr>\n    <tr>\n      <th>4</th>\n      <td>190871</td>\n      <td>Neymar Jr</td>\n      <td>Neymar da Silva Santos Jr.</td>\n      <td>https://cdn.sofifa.com/players/190/871/21_60.png</td>\n      <td>http://sofifa.com/player/190871/neymar-da-silv...</td>\n      <td>Brazil</td>\n      <td>28</td>\n      <td>91</td>\n      <td>91</td>\n      <td>Paris Saint-Germain</td>\n      <td>...</td>\n      <td>85</td>\n      <td>86</td>\n      <td>94</td>\n      <td>36</td>\n      <td>59</td>\n      <td>595</td>\n      <td>Contract</td>\n      <td>2017</td>\n      <td>2022</td>\n      <td>5</td>\n    </tr>\n    <tr>\n      <th>161</th>\n      <td>216547</td>\n      <td>Rafa</td>\n      <td>Rafael A. Ferreira Silva</td>\n      <td>https://cdn.sofifa.com/players/216/547/21_60.png</td>\n      <td>http://sofifa.com/player/216547/rafael-a-ferre...</td>\n      <td>Portugal</td>\n      <td>27</td>\n      <td>83</td>\n      <td>83</td>\n      <td>SL Benfica</td>\n      <td>...</td>\n      <td>73</td>\n      <td>74</td>\n      <td>87</td>\n      <td>50</td>\n      <td>52</td>\n      <td>128</td>\n      <td>Contract</td>\n      <td>2016</td>\n      <td>2024</td>\n      <td>8</td>\n    </tr>\n    <tr>\n      <th>162</th>\n      <td>200949</td>\n      <td>Lucas Moura</td>\n      <td>Lucas Rodrigues M. Silva</td>\n      <td>https://cdn.sofifa.com/players/200/949/21_60.png</td>\n      <td>http://sofifa.com/player/200949/lucas-rodrigue...</td>\n      <td>Brazil</td>\n      <td>27</td>\n      <td>83</td>\n      <td>83</td>\n      <td>Tottenham Hotspur</td>\n      <td>...</td>\n      <td>78</td>\n      <td>72</td>\n      <td>87</td>\n      <td>43</td>\n      <td>67</td>\n      <td>115</td>\n      <td>Contract</td>\n      <td>2018</td>\n      <td>2024</td>\n      <td>6</td>\n    </tr>\n    <tr>\n      <th>198</th>\n      <td>187961</td>\n      <td>Paulinho</td>\n      <td>Jose Paulo Bezerra M. Junior</td>\n      <td>https://cdn.sofifa.com/players/187/961/21_60.png</td>\n      <td>http://sofifa.com/player/187961/jose-paulo-bez...</td>\n      <td>Brazil</td>\n      <td>31</td>\n      <td>83</td>\n      <td>83</td>\n      <td>Guangzhou Evergrande Taobao FC</td>\n      <td>...</td>\n      <td>82</td>\n      <td>77</td>\n      <td>82</td>\n      <td>80</td>\n      <td>85</td>\n      <td>124</td>\n      <td>Contract</td>\n      <td>2019</td>\n      <td>2023</td>\n      <td>4</td>\n    </tr>\n    <tr>\n      <th>...</th>\n      <td>...</td>\n      <td>...</td>\n      <td>...</td>\n      <td>...</td>\n      <td>...</td>\n      <td>...</td>\n      <td>...</td>\n      <td>...</td>\n      <td>...</td>\n      <td>...</td>\n      <td>...</td>\n      <td>...</td>\n      <td>...</td>\n      <td>...</td>\n      <td>...</td>\n      <td>...</td>\n      <td>...</td>\n      <td>...</td>\n      <td>...</td>\n      <td>...</td>\n      <td>...</td>\n    </tr>\n    <tr>\n      <th>17840</th>\n      <td>242941</td>\n      <td>M. Larsen</td>\n      <td>Marius B. Larsen</td>\n      <td>https://cdn.sofifa.com/players/242/941/21_60.png</td>\n      <td>http://sofifa.com/player/242941/marius-b-larse...</td>\n      <td>Norway</td>\n      <td>20</td>\n      <td>55</td>\n      <td>69</td>\n      <td>Odds BK</td>\n      <td>...</td>\n      <td>49</td>\n      <td>47</td>\n      <td>58</td>\n      <td>30</td>\n      <td>38</td>\n      <td>0</td>\n      <td>Contract</td>\n      <td>2017</td>\n      <td>2020</td>\n      <td>3</td>\n    </tr>\n    <tr>\n      <th>18345</th>\n      <td>243428</td>\n      <td>N. Jenssen</td>\n      <td>Nicolas P. Jenssen</td>\n      <td>https://cdn.sofifa.com/players/243/428/21_60.png</td>\n      <td>http://sofifa.com/player/243428/nicolas-p-jens...</td>\n      <td>Norway</td>\n      <td>18</td>\n      <td>53</td>\n      <td>73</td>\n      <td>Stabæk Fotball</td>\n      <td>...</td>\n      <td>25</td>\n      <td>32</td>\n      <td>37</td>\n      <td>53</td>\n      <td>60</td>\n      <td>0</td>\n      <td>Contract</td>\n      <td>2018</td>\n      <td>2022</td>\n      <td>4</td>\n    </tr>\n    <tr>\n      <th>18515</th>\n      <td>242215</td>\n      <td>D. Norman Jr.</td>\n      <td>David Norman Jr.</td>\n      <td>https://cdn.sofifa.com/players/242/215/21_60.png</td>\n      <td>http://sofifa.com/player/242215/david-norman-j...</td>\n      <td>Canada</td>\n      <td>22</td>\n      <td>52</td>\n      <td>62</td>\n      <td>Inter Miami</td>\n      <td>...</td>\n      <td>40</td>\n      <td>51</td>\n      <td>54</td>\n      <td>46</td>\n      <td>61</td>\n      <td>0</td>\n      <td>Contract</td>\n      <td>2019</td>\n      <td>2021</td>\n      <td>2</td>\n    </tr>\n    <tr>\n      <th>18517</th>\n      <td>258527</td>\n      <td>A. Stenseth</td>\n      <td>Aleksander B. Stenseth</td>\n      <td>https://cdn.sofifa.com/players/258/527/21_60.png</td>\n      <td>http://sofifa.com/player/258527/aleksander-b-s...</td>\n      <td>Norway</td>\n      <td>19</td>\n      <td>52</td>\n      <td>61</td>\n      <td>Strømsgodset IF</td>\n      <td>...</td>\n      <td>51</td>\n      <td>43</td>\n      <td>52</td>\n      <td>25</td>\n      <td>51</td>\n      <td>0</td>\n      <td>Contract</td>\n      <td>2020</td>\n      <td>2021</td>\n      <td>1</td>\n    </tr>\n    <tr>\n      <th>18711</th>\n      <td>258094</td>\n      <td>K. Ødven</td>\n      <td>Kristoffer S. Odven</td>\n      <td>https://cdn.sofifa.com/players/258/094/21_60.png</td>\n      <td>http://sofifa.com/player/258094/kristoffer-s-o...</td>\n      <td>Norway</td>\n      <td>18</td>\n      <td>51</td>\n      <td>68</td>\n      <td>Aalesunds FK</td>\n      <td>...</td>\n      <td>47</td>\n      <td>51</td>\n      <td>58</td>\n      <td>40</td>\n      <td>41</td>\n      <td>0</td>\n      <td>Contract</td>\n      <td>2020</td>\n      <td>2024</td>\n      <td>4</td>\n    </tr>\n  </tbody>\n</table>\n<p>76 rows × 81 columns</p>\n</div>"
     },
     "execution_count": 17,
     "metadata": {},
     "output_type": "execute_result"
    }
   ],
   "source": [
    "# Preprocessing the 'LongName' column by converting Unicode characters to ASCII equivalents and identifying abbreviations and acronyms in the dataset\n",
    "df_copy['LongName'] = df_copy['LongName'].apply(unidecode)\n",
    "df_copy[df_copy['LongName'].str.contains('\\w+\\.')]"
   ]
  },
  {
   "cell_type": "markdown",
   "metadata": {},
   "source": [
    "The first line of code is cleaning and preprocessing the column named **\"LongName\"** in dataset by applying the **\"unidecode\"** function to the values in the existing **\"LongName\"** column.\n",
    "\n",
    "The second line of code is filtering the DataFrame to include only rows where the **\"LongName\"** column contains at least one word character **(\\w)** followed by a period **(.)**. This pattern will match strings that contain an abbreviation or acronym, such as **\"Mr.\"**, **\"Ph.D.\"**, or **\"U.S.A.\"**.\n",
    "\n",
    "Overall, this lines of code are used to clean and preprocess text data by removing non-ASCII characters and identifying abbreviations and acronyms."
   ]
  },
  {
   "cell_type": "code",
   "execution_count": 18,
   "metadata": {},
   "outputs": [],
   "source": [
    "# Taking care of inconsistent naming conventions in the 'LongName' column\n",
    "name_dict = {\n",
    "    'C. Ronaldo dos Santos Aveiro': 'Cristiano Ronaldo dos Santos Aveiro',\n",
    "    'Neymar da Silva Santos Jr.': 'Neymar da Silva Santos Junior',\n",
    "    'Rafael A. Ferreira Silva': 'Rafael Augusto Ferreira Silva',\n",
    "    'Lucas Rodrigues M. Silva': 'Lucas Rodrigues Moura da Silva',\n",
    "    'Jose Paulo Bezerra M. Junior': 'Jose Paulo Bezerra Maciel Junior',\n",
    "    'Rosberto J. Dourado Santos': 'Rosberto Jose Dourado Santos',\n",
    "    'Ismaily Goncalves dos S.': 'Ismaily Goncalves dos Santos',\n",
    "    'Aluisio Chaves Rib. Moraes Junior': 'Aluisio Chaves Ribeiro Moraes Junior',\n",
    "    'Joao Pedro G. Santos Galvao': 'Joao Pedro Gomes Santos Galvao',\n",
    "    'Gabriel dos S. Magalhaes': 'Gabriel dos Santos Magalhaes',\n",
    "    'G. Pierre Paiva Souza': 'Gustavo Pierre Paiva Souza',\n",
    "    'A. Benjamin Chiamuloira Paes': 'Andre Benjamin Chiamuloira Paes',\n",
    "    'Wellingt. Edson Sabrao Rolim': 'Wellingtton Edson Sabrao Rolim',\n",
    "    'Manuel H. Tavares Fernandes': 'Manuel Henrique Tavares Fernandes',\n",
    "    'Gabriel Vasconcelos F.': 'Gabriel Vasconcelos Ferreira',\n",
    "    'Francisco L. Lima Silva Machado': 'Francisco Luiz Lima Silva Machado',\n",
    "    'Adrien S. Perruchet Silva': 'Adrien Sebastien Perruchet Silva',\n",
    "    'Xabier Etxeita Gorritxat.': 'Xabier Etxeita Gorritxategi',\n",
    "    'Victorino M. Magela Sa': 'Victorino Martins Magela Sa',\n",
    "    'Guilherme A. Vieira dos Santos': 'Guilherme Augusto Vieira dos Santos',\n",
    "    'Juliano Wagner Mascarinhas Concp.': 'Juliano Wagner Mascarenhas Conceicao',\n",
    "    'Mauro Jaqueson J. Ferreira Santos': 'Mauro Jaqueson Junior Ferreira Santos',\n",
    "    'F. Evanilson de Lima Barbosa': 'Fernando Evanilson de Lima Barbosa',\n",
    "    'M. Vanderlei Paulino Kenedy': 'Marcos Vanderlei Paulino Kenedy',\n",
    "    'Pedro K. Medina da Silva': 'Pedro Kenzo Medina da Silva',\n",
    "    'Rogerio de A. S. Coutinho': 'Rogerio de Assis Silva Coutinho',\n",
    "    'Lourency N. Rodrigues': 'Lourency Nascimento Rodrigues',\n",
    "    'Ivo Daniel F. Mendonca Pinto': 'Ivo Daniel Fernandes Mendonca Pinto',\n",
    "    'Fernando H. Boldrin': 'Fernando Henrique Boldrin',\n",
    "    'Carlos Alberto Carvalho Silva Jr.': 'Carlos Alberto Carvalho Silva Junior',\n",
    "    'Fco. Javier Hidalgo Gomez': 'Francisco Javier Hidalgo Gomez',\n",
    "    'Adriano Well. Bastos Oliveira': 'Adriano Wellington Bastos Oliveira',\n",
    "    'Ruben Micael F. da Ressureicao': 'Ruben Micael Fernandes da Ressureicao',\n",
    "    'Weverson L. de Oliveira Moura': 'Weverson Leandro de Oliveira Moura',\n",
    "    'Roderick J. Goncalves Miranda': 'Roderick Goncalves Miranda',\n",
    "    'Fabricio I. Fonseca de Jesus': 'Fabricio Fonseca de Jesus',\n",
    "    'Hugo Miguel Barreto H. Marques': 'Hugo Miguel Barreto Henrique Marques',\n",
    "    'Antonaldo V. Laforte Beretta': 'Antonaldo Laforte Beretta',\n",
    "    'Antonio C. Glauder Garcia': 'Antonio Cristian Glauder Garcia',\n",
    "    'Martin S. Ellingsen': 'Martin Ellingsen',\n",
    "    'Rivaldo Vitor Borba Ferreira Jr.': 'Rivaldo Vitor Borba Ferreira Junior',\n",
    "    'Fco. Javier Atienza Valverde': 'Francisco Javier Atienza Valverde',\n",
    "    'S. Jefferson Espinho Sobri': 'Sergio Jefferson Espinho Sobri',\n",
    "    'Admilson E. Dias de Barros': 'Admilson Estaline Dias de Barros',\n",
    "    'Tiago B. de Melo Tomas': 'Tiago Barreiros de Melo Tomas',\n",
    "    'Anders K. Jacobsen': 'Anders Kvindebjerg Jacobsen',\n",
    "    'A.J. DeLaGarza': 'Adolph Joseph DeLaGarza',\n",
    "    'Felix Alexandre A. Sanches Correia': 'Felix Alexandre Alves Sanches Correia',\n",
    "    'Andre Filipe M. Ribeiro Ferreira': 'Andre Filipe Martins Ribeiro Ferreira',\n",
    "    'Angelo Rafael O. Sousa Taveira': 'Angelo Rafael Oliveira Sousa Taveira',\n",
    "    'Derrick Etienne Jr.': 'Derrick Etienne Junior',\n",
    "    'David Jose Gomes O. Tavares': 'David Jose Gomes Oliveira Tavares',\n",
    "    'Erico C. da Silva': 'Erico Constantino da Silva',\n",
    "    'Ulysses Llanez Jr.': 'Ulysses Llanez Junior',\n",
    "    'Tommy St. Jago': 'Tommy Jago',\n",
    "    'Fredrik P. Knudsen': 'Fredrik Pettersen Knudsen',\n",
    "    'Hugo Gomes dos S. Silva': 'Hugo Gomes dos Santos Silva',\n",
    "    'Miullen N. Felicio Carva': 'Miullen Nunes Felicio Carvalho',\n",
    "    'Renan Abner C. de Oliveira': 'Renan Abner Cardoso de Oliveira',\n",
    "    'Kornelius N. Hansen': 'Kornelius Nyborg Hansen',\n",
    "    'Kristoffer N. Hansen': 'Kristoffer Nyhus Hansen',\n",
    "    'Rui F. da Cunha Correia': 'Rui Ferreira da Cunha Correia',\n",
    "    'Earl Edwards Jr.': 'Earl Edwards Junior',\n",
    "    'Tiago Fontoura F. Morais': 'Tiago Fontoura Ferreira Morais',\n",
    "    'Alexander B. Hansen': 'Alexander Bjorneboe Hansen',\n",
    "    'Dayne St. Clair': 'Dayne Tristan Clair',\n",
    "    'Magnus S. Lundal': 'Magnus Stian Lundal',\n",
    "    'Elias K. Hagen': 'Elias Kristoffer Hagen',\n",
    "    'Sebastian S. Sebulonsen': 'Sebastian Stian Sebulonsen',\n",
    "    'Magnus R. Jensen': 'Magnus Rudolf Jensen',\n",
    "    'Marius B. Larsen': 'Marius Bjornerud Larsen',\n",
    "    'Nicolas P. Jenssen': 'Nicolas Pedersen Jenssen',\n",
    "    'David Norman Jr.': 'David Norman Junior',\n",
    "    'Aleksander B. Stenseth': 'Aleksander Bjornevik Stenseth',\n",
    "    'Kristoffer S. Odven': 'Kristoffer Storflor Odven'}\n",
    "\n",
    "df_copy['LongName'] = df_copy['LongName'].replace(name_dict)\n",
    "df_copy.loc[df_copy['ID'] == 226853,'LongName'] = 'Jeremiah Israël Juste'"
   ]
  },
  {
   "cell_type": "markdown",
   "metadata": {},
   "source": [
    "The **\"replace\"** method in pandas allows you to replace values in a DataFrame with other values. In this case, the method is being called on the **\"LongName\"** column of the DataFrame, and the replacement values are taken from the **\"name_dict\"** dictionary.\n",
    "\n",
    "The **\"name_dict\"** dictionary contains mappings between original names and their updated or corrected versions. This code can be useful for standardizing names in a dataset, such as replacing abbreviations or nicknames with full names or correcting spelling errors."
   ]
  },
  {
   "cell_type": "code",
   "execution_count": 19,
   "metadata": {},
   "outputs": [
    {
     "data": {
      "text/plain": "Index(['ID', 'Name', 'LongName', 'photoUrl', 'playerUrl', 'Nationality', 'Age',\n       '↓OVA', 'POT', 'Club', 'Contract', 'Positions', 'Height', 'Weight',\n       'Preferred Foot', 'BOV', 'Best Position', 'Joined', 'Loan Date End',\n       'Value', 'Wage', 'Release Clause', 'Attacking', 'Crossing', 'Finishing',\n       'Heading Accuracy', 'Short Passing', 'Volleys', 'Skill', 'Dribbling',\n       'Curve', 'FK Accuracy', 'Long Passing', 'Ball Control', 'Movement',\n       'Acceleration', 'Sprint Speed', 'Agility', 'Reactions', 'Balance',\n       'Power', 'Shot Power', 'Jumping', 'Stamina', 'Strength', 'Long Shots',\n       'Mentality', 'Aggression', 'Interceptions', 'Positioning', 'Vision',\n       'Penalties', 'Composure', 'Defending', 'Marking', 'Standing Tackle',\n       'Sliding Tackle', 'Goalkeeping', 'GK Diving', 'GK Handling',\n       'GK Kicking', 'GK Positioning', 'GK Reflexes', 'Total Stats',\n       'Base Stats', 'W/F', 'SM', 'A/W', 'D/W', 'IR', 'PAC', 'SHO', 'PAS',\n       'DRI', 'DEF', 'PHY', 'Hits', 'player_transfer_agreement', 'start_year',\n       'end_year', 'contract_duration'],\n      dtype='object')"
     },
     "execution_count": 19,
     "metadata": {},
     "output_type": "execute_result"
    }
   ],
   "source": [
    "# Getting all the column names\n",
    "df_copy.columns"
   ]
  },
  {
   "cell_type": "code",
   "execution_count": 20,
   "metadata": {},
   "outputs": [],
   "source": [
    "# Taking care of inconsistent naming conventions in the column names in this dataset\n",
    "new_names = {\n",
    "    'ID': 'id',\n",
    "    'LongName': 'player_full_name',\n",
    "    'Nationality': 'nationality',\n",
    "    'Age': 'age',\n",
    "    '↓OVA': 'overall_rating',\n",
    "    'POT': 'potential_rating',\n",
    "    'Club': 'club',\n",
    "    'Contract': 'contract',\n",
    "    'Positions': 'positions',\n",
    "    'Height': 'height_cm',\n",
    "    'Weight': 'weight_kg',\n",
    "    'Preferred Foot': 'preferred_foot',\n",
    "    'BOV': 'best_overall_rating',\n",
    "    'Best Position': 'best_position',\n",
    "    'Joined': 'joined_date',\n",
    "    'Loan Date End': 'expiry_date',\n",
    "    'Value': 'value_euro',\n",
    "    'Wage': 'wage_euro',\n",
    "    'Release Clause': 'release_clause_euro',\n",
    "    'Attacking': 'attacking_rating',\n",
    "    'Crossing': 'crossing_rating',\n",
    "    'Finishing': 'finishing_rating',\n",
    "    'Heading Accuracy': 'heading_accuracy_rating',\n",
    "    'Short Passing': 'short_passing_rating',\n",
    "    'Volleys': 'volleys_rating',\n",
    "    'Skill': 'skill_rating',\n",
    "    'Dribbling': 'dribbling_rating',\n",
    "    'Curve': 'curve_rating',\n",
    "    'FK Accuracy': 'free_kick_accuracy_rating',\n",
    "    'Long Passing': 'long_passing_rating',\n",
    "    'Ball Control': 'ball_control_rating',\n",
    "    'Movement': 'movement_rating',\n",
    "    'Acceleration': 'acceleration_rating',\n",
    "    'Sprint Speed': 'sprint_speed_rating',\n",
    "    'Agility': 'agility_rating',\n",
    "    'Reactions': 'reactions_rating',\n",
    "    'Balance': 'balance_rating',\n",
    "    'Power': 'power_rating',\n",
    "    'Shot Power': 'shot_power_rating',\n",
    "    'Jumping': 'jumping_rating',\n",
    "    'Stamina': 'stamina_rating',\n",
    "    'Strength': 'strength_rating',\n",
    "    'Long Shots': 'long_shots_rating',\n",
    "    'Mentality': 'mentality_rating',\n",
    "    'Aggression': 'aggression_rating',\n",
    "    'Interceptions': 'interceptions_rating',\n",
    "    'Positioning': 'positioning_rating',\n",
    "    'Vision': 'vision_rating',\n",
    "    'Penalties': 'penalties_rating',\n",
    "    'Composure': 'composure_rating',\n",
    "    'Defending': 'defending_rating',\n",
    "    'Marking': 'marking_rating',\n",
    "    'Standing Tackle': 'standing_tackle_rating',\n",
    "    'Sliding Tackle': 'sliding_tackle_rating',\n",
    "    'Goalkeeping': 'goalkeeping_rating',\n",
    "    'GK Diving': 'gk_diving_rating',\n",
    "    'GK Handling': 'gk_handling_rating',\n",
    "    'GK Kicking': 'gk_kicking_rating',\n",
    "    'GK Positioning': 'gk_positioning_rating',\n",
    "    'GK Reflexes': 'gk_reflexes_rating',\n",
    "    'Total Stats': 'total_stats',\n",
    "    'Base Stats': 'base_stats',\n",
    "    'W/F': 'weak_foot',\n",
    "    'SM': 'skill_moves',\n",
    "    'A/W': 'attacking_work_rate',\n",
    "    'D/W': 'defensive_work_rate',\n",
    "    'IR': 'international_reputation',\n",
    "    'PAC': 'pace_rating',\n",
    "    'SHO': 'shooting_rating',\n",
    "    'PAS': 'passing_rating',\n",
    "    'DRI': 'dribbling_rating',\n",
    "    'DEF': 'defending_rating',\n",
    "    'PHY': 'physical_rating',\n",
    "    'Hits': 'no_of_profile_hits'\n",
    "}\n",
    "df_copy = df_copy.rename(columns=new_names)"
   ]
  },
  {
   "cell_type": "markdown",
   "metadata": {},
   "source": [
    "First, a dictionary of old and new column names is created and assigned to the variable **new_names**. Then, the **rename()** method is called on the DataFrame object **df_copy**, with the columns parameter set to the new_names dictionary. This renames the columns of the DataFrame to the new names specified in the dictionary.\n",
    "\n",
    "Overall, this code provides an easy and efficient way to rename the columns of a pandas DataFrame in Python, using the **rename()** method and a dictionary of new column names."
   ]
  },
  {
   "cell_type": "markdown",
   "metadata": {},
   "source": [
    "#### 2.3 Removing redundant data"
   ]
  },
  {
   "cell_type": "code",
   "execution_count": 21,
   "metadata": {},
   "outputs": [],
   "source": [
    "# Removing irrelevant columns\n",
    "df_copy = df_copy.drop(['start_year','end_year','contract','positions','playerUrl','photoUrl','Name'],axis=1)"
   ]
  },
  {
   "cell_type": "markdown",
   "metadata": {},
   "source": [
    "This code provides an efficient way to drop multiple columns from the DataFrame using the **drop()** method."
   ]
  },
  {
   "cell_type": "markdown",
   "source": [
    "### 3. Conclusion"
   ],
   "metadata": {
    "collapsed": false
   }
  },
  {
   "cell_type": "markdown",
   "source": [
    "The cleaning of this dataset has helped us to eliminate errors and inconsistencies, making it more reliable and accurate for further analysis. The cleaned dataset provides a detailed account of the football players. By organizing and structuring the data in a more presentable format, it is now easier to identify patterns and trends in the performance and career progression of these players. The cleaned dataset can be used for research purposes or to build predictive models that can help in making informed decisions in the football gaming industry."
   ],
   "metadata": {
    "collapsed": false
   }
  },
  {
   "cell_type": "code",
   "execution_count": 22,
   "metadata": {},
   "outputs": [
    {
     "data": {
      "text/plain": "       id                     player_full_name nationality  age  \\\n0  158023                         Lionel Messi   Argentina   33   \n1   20801  Cristiano Ronaldo dos Santos Aveiro    Portugal   35   \n2  200389                            Jan Oblak    Slovenia   27   \n3  192985                      Kevin De Bruyne     Belgium   29   \n4  190871        Neymar da Silva Santos Junior      Brazil   28   \n\n   overall_rating  potential_rating                 club  height_cm  \\\n0              93                93         FC Barcelona        170   \n1              92                92             Juventus        187   \n2              91                93      Atlético Madrid        188   \n3              91                91      Manchester City        181   \n4              91                91  Paris Saint-Germain        175   \n\n   weight_kg preferred_foot  ...  international_reputation pace_rating  \\\n0       72.0           Left  ...                        5           85   \n1       83.0          Right  ...                        5           89   \n2       87.0          Right  ...                        3           87   \n3       70.0          Right  ...                        4           76   \n4       68.0          Right  ...                        5           91   \n\n  shooting_rating passing_rating  dribbling_rating  defending_rating  \\\n0              92             91                95                38   \n1              93             81                89                35   \n2              92             78                90                52   \n3              86             93                88                64   \n4              85             86                94                36   \n\n   physical_rating  no_of_profile_hits  player_transfer_agreement  \\\n0               65                 771                   Contract   \n1               77                 562                   Contract   \n2               90                 150                   Contract   \n3               78                 207                   Contract   \n4               59                 595                   Contract   \n\n   contract_duration  \n0                 17  \n1                  4  \n2                  9  \n3                  8  \n4                  5  \n\n[5 rows x 74 columns]",
      "text/html": "<div>\n<style scoped>\n    .dataframe tbody tr th:only-of-type {\n        vertical-align: middle;\n    }\n\n    .dataframe tbody tr th {\n        vertical-align: top;\n    }\n\n    .dataframe thead th {\n        text-align: right;\n    }\n</style>\n<table border=\"1\" class=\"dataframe\">\n  <thead>\n    <tr style=\"text-align: right;\">\n      <th></th>\n      <th>id</th>\n      <th>player_full_name</th>\n      <th>nationality</th>\n      <th>age</th>\n      <th>overall_rating</th>\n      <th>potential_rating</th>\n      <th>club</th>\n      <th>height_cm</th>\n      <th>weight_kg</th>\n      <th>preferred_foot</th>\n      <th>...</th>\n      <th>international_reputation</th>\n      <th>pace_rating</th>\n      <th>shooting_rating</th>\n      <th>passing_rating</th>\n      <th>dribbling_rating</th>\n      <th>defending_rating</th>\n      <th>physical_rating</th>\n      <th>no_of_profile_hits</th>\n      <th>player_transfer_agreement</th>\n      <th>contract_duration</th>\n    </tr>\n  </thead>\n  <tbody>\n    <tr>\n      <th>0</th>\n      <td>158023</td>\n      <td>Lionel Messi</td>\n      <td>Argentina</td>\n      <td>33</td>\n      <td>93</td>\n      <td>93</td>\n      <td>FC Barcelona</td>\n      <td>170</td>\n      <td>72.0</td>\n      <td>Left</td>\n      <td>...</td>\n      <td>5</td>\n      <td>85</td>\n      <td>92</td>\n      <td>91</td>\n      <td>95</td>\n      <td>38</td>\n      <td>65</td>\n      <td>771</td>\n      <td>Contract</td>\n      <td>17</td>\n    </tr>\n    <tr>\n      <th>1</th>\n      <td>20801</td>\n      <td>Cristiano Ronaldo dos Santos Aveiro</td>\n      <td>Portugal</td>\n      <td>35</td>\n      <td>92</td>\n      <td>92</td>\n      <td>Juventus</td>\n      <td>187</td>\n      <td>83.0</td>\n      <td>Right</td>\n      <td>...</td>\n      <td>5</td>\n      <td>89</td>\n      <td>93</td>\n      <td>81</td>\n      <td>89</td>\n      <td>35</td>\n      <td>77</td>\n      <td>562</td>\n      <td>Contract</td>\n      <td>4</td>\n    </tr>\n    <tr>\n      <th>2</th>\n      <td>200389</td>\n      <td>Jan Oblak</td>\n      <td>Slovenia</td>\n      <td>27</td>\n      <td>91</td>\n      <td>93</td>\n      <td>Atlético Madrid</td>\n      <td>188</td>\n      <td>87.0</td>\n      <td>Right</td>\n      <td>...</td>\n      <td>3</td>\n      <td>87</td>\n      <td>92</td>\n      <td>78</td>\n      <td>90</td>\n      <td>52</td>\n      <td>90</td>\n      <td>150</td>\n      <td>Contract</td>\n      <td>9</td>\n    </tr>\n    <tr>\n      <th>3</th>\n      <td>192985</td>\n      <td>Kevin De Bruyne</td>\n      <td>Belgium</td>\n      <td>29</td>\n      <td>91</td>\n      <td>91</td>\n      <td>Manchester City</td>\n      <td>181</td>\n      <td>70.0</td>\n      <td>Right</td>\n      <td>...</td>\n      <td>4</td>\n      <td>76</td>\n      <td>86</td>\n      <td>93</td>\n      <td>88</td>\n      <td>64</td>\n      <td>78</td>\n      <td>207</td>\n      <td>Contract</td>\n      <td>8</td>\n    </tr>\n    <tr>\n      <th>4</th>\n      <td>190871</td>\n      <td>Neymar da Silva Santos Junior</td>\n      <td>Brazil</td>\n      <td>28</td>\n      <td>91</td>\n      <td>91</td>\n      <td>Paris Saint-Germain</td>\n      <td>175</td>\n      <td>68.0</td>\n      <td>Right</td>\n      <td>...</td>\n      <td>5</td>\n      <td>91</td>\n      <td>85</td>\n      <td>86</td>\n      <td>94</td>\n      <td>36</td>\n      <td>59</td>\n      <td>595</td>\n      <td>Contract</td>\n      <td>5</td>\n    </tr>\n  </tbody>\n</table>\n<p>5 rows × 74 columns</p>\n</div>"
     },
     "execution_count": 22,
     "metadata": {},
     "output_type": "execute_result"
    }
   ],
   "source": [
    "# Final look on the cleaned dataset before exporting\n",
    "df_copy.head()"
   ]
  },
  {
   "cell_type": "code",
   "execution_count": 23,
   "outputs": [],
   "source": [
    "# Exporting the clean data\n",
    "df_copy.to_csv('./data/fifa_21_clean.csv')"
   ],
   "metadata": {
    "collapsed": false
   }
  }
 ],
 "metadata": {
  "kernelspec": {
   "display_name": "Python 3 (ipykernel)",
   "language": "python",
   "name": "python3"
  },
  "language_info": {
   "codemirror_mode": {
    "name": "ipython",
    "version": 3
   },
   "file_extension": ".py",
   "mimetype": "text/x-python",
   "name": "python",
   "nbconvert_exporter": "python",
   "pygments_lexer": "ipython3",
   "version": "3.9.13"
  }
 },
 "nbformat": 4,
 "nbformat_minor": 1
}
